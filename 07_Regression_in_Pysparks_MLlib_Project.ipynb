{
  "cells": [
    {
      "cell_type": "markdown",
      "metadata": {
        "id": "oq5YH-tYPowJ"
      },
      "source": [
        "# Regression in PySpark's MLlib Project\n",
        "\n",
        "Now it's time to put what you've learned to into action with a REAL project! \n",
        "\n",
        "You have been hired as a consultant to a cement production company who wants to be able to improve their customer experience around a number of areas like being able to provide recommendations to cusomters on optimal amounts of certian ingredients in the cement making process and perhaps even create an application where users can input their own values and received a predicted cement strength!\n",
        "\n",
        "I have provided a list of question below to help guide you through this project but feel free to deviate and make this project your own! But first, a bit about this dataset.\n",
        "\n",
        "### About this dataset \n",
        "This dataset contains 1030 instances of concrete samples, containing 9 attributes (8 continuous and 1 discreate), and 1 continuous quantitative output variable. There are no missing attribute values.\n",
        "\n",
        "I've also provided the variable name, variable type, the measurement unit and a brief description of each variable in the dataset. The concrete compressive strength is the outcome variable for our analysis. The order of this listing corresponds to the order of numerals along the rows of the database.\n",
        "\n",
        "Name -- Data Type -- Measurement -- Description\n",
        "\n",
        "- Cement -- quantitative -- kg in a m3 mixture -- Input Variable \n",
        "- Blast Furnace Slag -- quantitative -- kg in a m3 mixture -- Input Variable \n",
        "- Fly Ash -- quantitative -- kg in a m3 mixture -- Input Variable \n",
        "- Water -- quantitative -- kg in a m3 mixture -- Input Variable \n",
        "- Superplasticizer -- quantitative -- kg in a m3 mixture -- Input Variable \n",
        "- Coarse Aggregate -- quantitative -- kg in a m3 mixture -- Input Variable \n",
        "- Fine Aggregate -- quantitative -- kg in a m3 mixture -- Input Variable \n",
        "- Age -- quantitative -- Day (1~365) -- Input Variable \n",
        "- Concrete compressive strength -- quantitative -- MPa -- Output Variable\n",
        "\n",
        "**Source:** https://www.kaggle.com/maajdl/yeh-concret-data\n",
        "\n",
        "**Dataset Name:** Concrete_Data.csv"
      ]
    },
    {
      "cell_type": "code",
      "execution_count": null,
      "metadata": {
        "id": "PXr-iXBVPowM"
      },
      "outputs": [],
      "source": [
        "import pyspark # only run after findspark.init()\n",
        "from pyspark.sql import SparkSession\n",
        "#from pyspark.sql.functions import *\n",
        "from pyspark.ml.feature import VectorAssembler\n",
        "from pyspark.sql.types import * \n",
        "from pyspark.sql.functions import col,isnan,skewness,log,when,desc\n",
        "from pyspark.ml.feature import StringIndexer\n",
        "from pyspark.ml.feature import MinMaxScaler\n",
        "import math\n",
        "# Dependencies for this section\n",
        "from pyspark.ml.regression import *\n",
        "from pyspark.ml.evaluation import *\n",
        "from pyspark.ml.tuning import CrossValidator, ParamGridBuilder\n",
        "import numpy as np\n"
      ]
    },
    {
      "cell_type": "code",
      "execution_count": null,
      "metadata": {
        "id": "cblsDpgtPowN",
        "outputId": "a845dbff-9f6d-4aac-d489-7ce1df94ef43"
      },
      "outputs": [
        {
          "name": "stdout",
          "output_type": "stream",
          "text": [
            "You are working with 1 core(s)\n"
          ]
        },
        {
          "data": {
            "text/html": [
              "\n",
              "            <div>\n",
              "                <p><b>SparkSession - in-memory</b></p>\n",
              "                \n",
              "        <div>\n",
              "            <p><b>SparkContext</b></p>\n",
              "\n",
              "            <p><a href=\"http://7e4a702c8031:4040\">Spark UI</a></p>\n",
              "\n",
              "            <dl>\n",
              "              <dt>Version</dt>\n",
              "                <dd><code>v3.3.1</code></dd>\n",
              "              <dt>Master</dt>\n",
              "                <dd><code>local[*]</code></dd>\n",
              "              <dt>AppName</dt>\n",
              "                <dd><code>Regression</code></dd>\n",
              "            </dl>\n",
              "        </div>\n",
              "        \n",
              "            </div>\n",
              "        "
            ],
            "text/plain": [
              "<pyspark.sql.session.SparkSession at 0x7f3acf25da80>"
            ]
          },
          "execution_count": 2,
          "metadata": {},
          "output_type": "execute_result"
        }
      ],
      "source": [
        "\n",
        "spark = SparkSession.builder.appName(\"Regression\").getOrCreate()\n",
        "\n",
        "cores = spark._jsc.sc().getExecutorMemoryStatus().keySet().size()\n",
        "print(\"You are working with\", cores, \"core(s)\")\n",
        "spark"
      ]
    },
    {
      "cell_type": "markdown",
      "metadata": {
        "id": "Cp7qjxX4PowO"
      },
      "source": [
        "## read the data "
      ]
    },
    {
      "cell_type": "code",
      "execution_count": null,
      "metadata": {
        "id": "Hdt7v8WsPowO",
        "outputId": "df29b545-68e4-4d4c-bd50-45aed05af96d"
      },
      "outputs": [
        {
          "data": {
            "text/html": [
              "<div>\n",
              "<style scoped>\n",
              "    .dataframe tbody tr th:only-of-type {\n",
              "        vertical-align: middle;\n",
              "    }\n",
              "\n",
              "    .dataframe tbody tr th {\n",
              "        vertical-align: top;\n",
              "    }\n",
              "\n",
              "    .dataframe thead th {\n",
              "        text-align: right;\n",
              "    }\n",
              "</style>\n",
              "<table border=\"1\" class=\"dataframe\">\n",
              "  <thead>\n",
              "    <tr style=\"text-align: right;\">\n",
              "      <th></th>\n",
              "      <th>cement</th>\n",
              "      <th>slag</th>\n",
              "      <th>flyash</th>\n",
              "      <th>water</th>\n",
              "      <th>superplasticizer</th>\n",
              "      <th>coarseaggregate</th>\n",
              "      <th>fineaggregate</th>\n",
              "      <th>age</th>\n",
              "      <th>csMPa</th>\n",
              "    </tr>\n",
              "  </thead>\n",
              "  <tbody>\n",
              "    <tr>\n",
              "      <th>0</th>\n",
              "      <td>540.0</td>\n",
              "      <td>0.0</td>\n",
              "      <td>0.0</td>\n",
              "      <td>162.0</td>\n",
              "      <td>2.5</td>\n",
              "      <td>1040.0</td>\n",
              "      <td>676.0</td>\n",
              "      <td>28</td>\n",
              "      <td>79.99</td>\n",
              "    </tr>\n",
              "    <tr>\n",
              "      <th>1</th>\n",
              "      <td>540.0</td>\n",
              "      <td>0.0</td>\n",
              "      <td>0.0</td>\n",
              "      <td>162.0</td>\n",
              "      <td>2.5</td>\n",
              "      <td>1055.0</td>\n",
              "      <td>676.0</td>\n",
              "      <td>28</td>\n",
              "      <td>61.89</td>\n",
              "    </tr>\n",
              "    <tr>\n",
              "      <th>2</th>\n",
              "      <td>332.5</td>\n",
              "      <td>142.5</td>\n",
              "      <td>0.0</td>\n",
              "      <td>228.0</td>\n",
              "      <td>0.0</td>\n",
              "      <td>932.0</td>\n",
              "      <td>594.0</td>\n",
              "      <td>270</td>\n",
              "      <td>40.27</td>\n",
              "    </tr>\n",
              "    <tr>\n",
              "      <th>3</th>\n",
              "      <td>332.5</td>\n",
              "      <td>142.5</td>\n",
              "      <td>0.0</td>\n",
              "      <td>228.0</td>\n",
              "      <td>0.0</td>\n",
              "      <td>932.0</td>\n",
              "      <td>594.0</td>\n",
              "      <td>365</td>\n",
              "      <td>41.05</td>\n",
              "    </tr>\n",
              "    <tr>\n",
              "      <th>4</th>\n",
              "      <td>198.6</td>\n",
              "      <td>132.4</td>\n",
              "      <td>0.0</td>\n",
              "      <td>192.0</td>\n",
              "      <td>0.0</td>\n",
              "      <td>978.4</td>\n",
              "      <td>825.5</td>\n",
              "      <td>360</td>\n",
              "      <td>44.30</td>\n",
              "    </tr>\n",
              "  </tbody>\n",
              "</table>\n",
              "</div>"
            ],
            "text/plain": [
              "   cement   slag  flyash  water  superplasticizer  coarseaggregate  \\\n",
              "0   540.0    0.0     0.0  162.0               2.5           1040.0   \n",
              "1   540.0    0.0     0.0  162.0               2.5           1055.0   \n",
              "2   332.5  142.5     0.0  228.0               0.0            932.0   \n",
              "3   332.5  142.5     0.0  228.0               0.0            932.0   \n",
              "4   198.6  132.4     0.0  192.0               0.0            978.4   \n",
              "\n",
              "   fineaggregate  age  csMPa  \n",
              "0          676.0   28  79.99  \n",
              "1          676.0   28  61.89  \n",
              "2          594.0  270  40.27  \n",
              "3          594.0  365  41.05  \n",
              "4          825.5  360  44.30  "
            ]
          },
          "execution_count": 5,
          "metadata": {},
          "output_type": "execute_result"
        }
      ],
      "source": [
        "path =\"Datasets/\"\n",
        "df = spark.read.csv(path+'Concrete_Data_Yeh.csv',inferSchema=True,header=True)\n",
        "df.limit(5).toPandas()"
      ]
    },
    {
      "cell_type": "code",
      "execution_count": null,
      "metadata": {
        "id": "YqhZTaeEPowP",
        "outputId": "9180c485-81fa-4f90-84f8-7a708826a04a"
      },
      "outputs": [
        {
          "name": "stdout",
          "output_type": "stream",
          "text": [
            "root\n",
            " |-- cement: double (nullable = true)\n",
            " |-- slag: double (nullable = true)\n",
            " |-- flyash: double (nullable = true)\n",
            " |-- water: double (nullable = true)\n",
            " |-- superplasticizer: double (nullable = true)\n",
            " |-- coarseaggregate: double (nullable = true)\n",
            " |-- fineaggregate: double (nullable = true)\n",
            " |-- age: integer (nullable = true)\n",
            " |-- csMPa: double (nullable = true)\n",
            "\n"
          ]
        }
      ],
      "source": [
        "df.printSchema()\n"
      ]
    },
    {
      "cell_type": "code",
      "execution_count": null,
      "metadata": {
        "id": "k5JEI6UIPowP",
        "outputId": "f3b72ed5-dd45-4207-8cb7-62268ed3e2c0"
      },
      "outputs": [
        {
          "data": {
            "text/html": [
              "<div>\n",
              "<style scoped>\n",
              "    .dataframe tbody tr th:only-of-type {\n",
              "        vertical-align: middle;\n",
              "    }\n",
              "\n",
              "    .dataframe tbody tr th {\n",
              "        vertical-align: top;\n",
              "    }\n",
              "\n",
              "    .dataframe thead th {\n",
              "        text-align: right;\n",
              "    }\n",
              "</style>\n",
              "<table border=\"1\" class=\"dataframe\">\n",
              "  <thead>\n",
              "    <tr style=\"text-align: right;\">\n",
              "      <th></th>\n",
              "      <th>summary</th>\n",
              "      <th>cement</th>\n",
              "      <th>slag</th>\n",
              "      <th>flyash</th>\n",
              "      <th>water</th>\n",
              "      <th>superplasticizer</th>\n",
              "      <th>coarseaggregate</th>\n",
              "      <th>fineaggregate</th>\n",
              "      <th>age</th>\n",
              "      <th>csMPa</th>\n",
              "    </tr>\n",
              "  </thead>\n",
              "  <tbody>\n",
              "    <tr>\n",
              "      <th>0</th>\n",
              "      <td>count</td>\n",
              "      <td>1030</td>\n",
              "      <td>1030</td>\n",
              "      <td>1030</td>\n",
              "      <td>1030</td>\n",
              "      <td>1030</td>\n",
              "      <td>1030</td>\n",
              "      <td>1030</td>\n",
              "      <td>1030</td>\n",
              "      <td>1030</td>\n",
              "    </tr>\n",
              "    <tr>\n",
              "      <th>1</th>\n",
              "      <td>mean</td>\n",
              "      <td>281.1678640776696</td>\n",
              "      <td>73.89582524271844</td>\n",
              "      <td>54.18834951456309</td>\n",
              "      <td>181.56728155339803</td>\n",
              "      <td>6.204660194174757</td>\n",
              "      <td>972.9189320388344</td>\n",
              "      <td>773.5804854368922</td>\n",
              "      <td>45.662135922330094</td>\n",
              "      <td>35.81796116504851</td>\n",
              "    </tr>\n",
              "    <tr>\n",
              "      <th>2</th>\n",
              "      <td>stddev</td>\n",
              "      <td>104.50636449481524</td>\n",
              "      <td>86.27934174810584</td>\n",
              "      <td>63.997004152687666</td>\n",
              "      <td>21.3542185650324</td>\n",
              "      <td>5.973841392485525</td>\n",
              "      <td>77.75395396672077</td>\n",
              "      <td>80.17598014240437</td>\n",
              "      <td>63.16991158103247</td>\n",
              "      <td>16.705741961912512</td>\n",
              "    </tr>\n",
              "    <tr>\n",
              "      <th>3</th>\n",
              "      <td>min</td>\n",
              "      <td>102.0</td>\n",
              "      <td>0.0</td>\n",
              "      <td>0.0</td>\n",
              "      <td>121.8</td>\n",
              "      <td>0.0</td>\n",
              "      <td>801.0</td>\n",
              "      <td>594.0</td>\n",
              "      <td>1</td>\n",
              "      <td>2.33</td>\n",
              "    </tr>\n",
              "    <tr>\n",
              "      <th>4</th>\n",
              "      <td>max</td>\n",
              "      <td>540.0</td>\n",
              "      <td>359.4</td>\n",
              "      <td>200.1</td>\n",
              "      <td>247.0</td>\n",
              "      <td>32.2</td>\n",
              "      <td>1145.0</td>\n",
              "      <td>992.6</td>\n",
              "      <td>365</td>\n",
              "      <td>82.6</td>\n",
              "    </tr>\n",
              "  </tbody>\n",
              "</table>\n",
              "</div>"
            ],
            "text/plain": [
              "  summary              cement               slag              flyash  \\\n",
              "0   count                1030               1030                1030   \n",
              "1    mean   281.1678640776696  73.89582524271844   54.18834951456309   \n",
              "2  stddev  104.50636449481524  86.27934174810584  63.997004152687666   \n",
              "3     min               102.0                0.0                 0.0   \n",
              "4     max               540.0              359.4               200.1   \n",
              "\n",
              "                water   superplasticizer    coarseaggregate  \\\n",
              "0                1030               1030               1030   \n",
              "1  181.56728155339803  6.204660194174757  972.9189320388344   \n",
              "2    21.3542185650324  5.973841392485525  77.75395396672077   \n",
              "3               121.8                0.0              801.0   \n",
              "4               247.0               32.2             1145.0   \n",
              "\n",
              "       fineaggregate                 age               csMPa  \n",
              "0               1030                1030                1030  \n",
              "1  773.5804854368922  45.662135922330094   35.81796116504851  \n",
              "2  80.17598014240437   63.16991158103247  16.705741961912512  \n",
              "3              594.0                   1                2.33  \n",
              "4              992.6                 365                82.6  "
            ]
          },
          "execution_count": 102,
          "metadata": {},
          "output_type": "execute_result"
        }
      ],
      "source": [
        "df.describe().toPandas()\n"
      ]
    },
    {
      "cell_type": "markdown",
      "metadata": {
        "id": "CDziOAAXPowP"
      },
      "source": [
        "## check null "
      ]
    },
    {
      "cell_type": "code",
      "execution_count": null,
      "metadata": {
        "id": "sE6IuVB6PowP",
        "outputId": "28cd3538-94e5-450d-d434-fc89a66e9dfc"
      },
      "outputs": [
        {
          "name": "stdout",
          "output_type": "stream",
          "text": [
            "+----------------+-----------------+------------------+\n",
            "|     Column_Name|Null_Values_Count|Null_Value_Percent|\n",
            "+----------------+-----------------+------------------+\n",
            "|          cement|                0|               0.0|\n",
            "|            slag|                0|               0.0|\n",
            "|          flyash|                0|               0.0|\n",
            "|           water|                0|               0.0|\n",
            "|superplasticizer|                0|               0.0|\n",
            "| coarseaggregate|                0|               0.0|\n",
            "|   fineaggregate|                0|               0.0|\n",
            "|             age|                0|               0.0|\n",
            "|           csMPa|                0|               0.0|\n",
            "+----------------+-----------------+------------------+\n",
            "\n"
          ]
        }
      ],
      "source": [
        "def null_value_calc(df):\n",
        "    null_columns_counts = []\n",
        "    numRows = df.count()\n",
        "    for k in df.columns:\n",
        "        nullRows = df.where(col(k).isNull() | isnan(col(k))).count() \n",
        "        \n",
        "        temp = k,nullRows,(nullRows/numRows)*100\n",
        "        null_columns_counts.append(temp)\n",
        "    return(null_columns_counts)\n",
        "\n",
        "null_columns_calc_list = null_value_calc(df)\n",
        "\n",
        "\n",
        "\n",
        "spark.createDataFrame(null_columns_calc_list, ['Column_Name', 'Null_Values_Count','Null_Value_Percent']).show()"
      ]
    },
    {
      "cell_type": "markdown",
      "metadata": {
        "id": "H49dFSujPowQ"
      },
      "source": [
        "## 1. Which features are the strongest predictors of cement strength?\n",
        "\n",
        "Build your own ML model to figure this one out! This would be good information to give to our client so the sales reps can focus their efforts on certian ingredients to provide recommendations on. For example, if our clients had a customer that was struggling with their cement breaking, we could trouble shoot with them by starting with the factors that we know are important. "
      ]
    },
    {
      "cell_type": "code",
      "execution_count": null,
      "metadata": {
        "id": "p0G3Hc9iPowQ",
        "outputId": "261b8d32-c0f8-48ad-90a5-159843bdca70"
      },
      "outputs": [
        {
          "name": "stdout",
          "output_type": "stream",
          "text": [
            "Correlation between 'cement_strength' and 'cement': 0.49783191932415516\n",
            "Correlation between 'cement_strength' and 'slag': 0.13482926149740534\n",
            "Correlation between 'cement_strength' and 'flyash': -0.10575491629731447\n",
            "Correlation between 'cement_strength' and 'water': -0.28963338498530294\n",
            "Correlation between 'cement_strength' and 'superplasticizer': 0.3660788271885191\n",
            "Correlation between 'cement_strength' and 'coarseaggregate': -0.16493461446011204\n",
            "Correlation between 'cement_strength' and 'fineaggregate': -0.16724124729005896\n",
            "Correlation between 'cement_strength' and 'age': 0.3288730007799873\n",
            "strongest feaatures are ['cement', 'water', 'superplasticizer', 'age']\n"
          ]
        }
      ],
      "source": [
        "strongest_predictors = []\n",
        "for feature in df.columns:\n",
        "    if feature != 'csMPa':\n",
        "        correlation = df.stat.corr('csMPa', feature)\n",
        "        print(f\"Correlation between 'cement_strength' and '{feature}': {correlation}\")\n",
        "        abs_corr=abs(correlation)\n",
        "        if  abs_corr > 0.2:\n",
        "            strongest_predictors.append(feature)\n",
        "\n",
        "        \n",
        "print(f\"strongest feaatures are {strongest_predictors}\")"
      ]
    },
    {
      "cell_type": "markdown",
      "metadata": {
        "id": "9YFEGQRwPowQ"
      },
      "source": [
        "## prepare the data "
      ]
    },
    {
      "cell_type": "code",
      "execution_count": null,
      "metadata": {
        "id": "7LzDEm6bPowR"
      },
      "outputs": [],
      "source": [
        "def MLRegressDFPrep(df,input_columns,dependent_var,treat_outliers=True):\n",
        "\n",
        "    indexed = df.withColumnRenamed(dependent_var,'label')\n",
        "                \n",
        "    if treat_outliers == True:\n",
        "        print(\"We are correcting for non normality now!\")\n",
        "        # empty dictionary d\n",
        "        d = {}\n",
        "        # Create a dictionary of quantiles\n",
        "        for col in input_columns: \n",
        "            d[col] = indexed.approxQuantile(col,[0.01,0.99],0.25) #if you want to make it go faster increase the last number\n",
        "        #Now fill in the values\n",
        "        for col in input_columns:\n",
        "            skew = indexed.agg(skewness(indexed[col])).collect() #check for skewness\n",
        "            skew = skew[0][0]\n",
        "            # This function will floor, cap and then log+1 (just in case there are 0 values)\n",
        "            if skew > 1:\n",
        "                indexed = indexed.withColumn(col, \\\n",
        "                log(when(df[col] < d[col][0],d[col][0])\\\n",
        "                .when(indexed[col] > d[col][1], d[col][1])\\\n",
        "                .otherwise(indexed[col] ) +1).alias(col))\n",
        "                print(col+\" has been treated for positive (right) skewness. (skew =)\",skew,\")\")\n",
        "            elif skew < -1:\n",
        "                indexed = indexed.withColumn(col, \\\n",
        "                exp(when(df[col] < d[col][0],d[col][0])\\\n",
        "                .when(indexed[col] > d[col][1], d[col][1])\\\n",
        "                .otherwise(indexed[col] )).alias(col))\n",
        "                print(col+\" has been treated for negative (left) skewness. (skew =\",skew,\")\")\n",
        "                \n",
        "    # Vectorize your features\n",
        "    features_list = input_columns\n",
        "    assembler = VectorAssembler(inputCols=features_list,outputCol='features')\n",
        "    final_data = assembler.transform(indexed).select('features','label')\n",
        "        \n",
        "    return final_data"
      ]
    },
    {
      "cell_type": "code",
      "execution_count": null,
      "metadata": {
        "id": "pQzJ3-7aPowR",
        "outputId": "d3ae826b-4889-4805-e44f-77ae98d732b8"
      },
      "outputs": [
        {
          "name": "stdout",
          "output_type": "stream",
          "text": [
            "We are correcting for non normality now!\n",
            "age has been treated for positive (right) skewness. (skew =) 3.2644145354168086 )\n",
            "+--------------------+-----+\n",
            "|            features|label|\n",
            "+--------------------+-----+\n",
            "|[540.0,0.0,0.0,16...|79.99|\n",
            "|[540.0,0.0,0.0,16...|61.89|\n",
            "|[332.5,142.5,0.0,...|40.27|\n",
            "|[332.5,142.5,0.0,...|41.05|\n",
            "|[198.6,132.4,0.0,...| 44.3|\n",
            "+--------------------+-----+\n",
            "only showing top 5 rows\n",
            "\n"
          ]
        }
      ],
      "source": [
        "input_columns =  ['cement','slag', 'flyash','water', 'superplasticizer', 'coarseaggregate','fineaggregate','age']\n",
        "dependent_var = 'csMPa'\n",
        "\n",
        "final_data = MLRegressDFPrep(df,input_columns,dependent_var)\n",
        "final_data.show(5)"
      ]
    },
    {
      "cell_type": "markdown",
      "metadata": {
        "id": "T8eH7A_hPowR"
      },
      "source": [
        "## train and evaluate "
      ]
    },
    {
      "cell_type": "code",
      "execution_count": null,
      "metadata": {
        "id": "9-S_LjMmPowR"
      },
      "outputs": [],
      "source": [
        "def RegressTrainEval(regressor):\n",
        "\n",
        "    def FindMtype(regressor):\n",
        "        # Intstantiate Model\n",
        "        M = regressor\n",
        "        # Learn what it is\n",
        "        Mtype = type(M).__name__\n",
        "        \n",
        "        return Mtype\n",
        "    \n",
        "    Mtype = FindMtype(regressor)\n",
        "#     print('\\033[1m' + Mtype + ':' + '\\033[0m')\n",
        "\n",
        "\n",
        "    if Mtype == \"LinearRegression\":\n",
        "        \n",
        "        #first without cross val\n",
        "        fitModel = regressor.fit(train)\n",
        "\n",
        "        # Load the Summary\n",
        "        trainingSummary = fitModel.summary\n",
        "        \n",
        "        # Print the coefficients and intercept for linear regression\n",
        "        print('\\033[1m' + \"Linear Regression Model Training Summary without cross validation:\"+ '\\033[0m')\n",
        "        print(\" \")\n",
        "        print(\"Intercept: %s\" % str(fitModel.intercept))\n",
        "        print(\"\")\n",
        "        print(\"Coefficients: \")\n",
        "        coeff_array = fitModel.coefficients.toArray()\n",
        "        # Convert from numpy array to list\n",
        "        coeff_list = []\n",
        "        for x in coeff_array:\n",
        "            coeff_list.append(float(x))\n",
        "        result = spark.createDataFrame(zip(input_columns,coeff_list), schema=['feature','coeff'])\n",
        "        print(result.orderBy(result[\"coeff\"].desc()).show(truncate=False))\n",
        "\n",
        "\n",
        "\n",
        "        # Summarize the model over the training set and print out some metrics\n",
        "        print(\"numIterations: %d\" % trainingSummary.totalIterations)\n",
        "        print(\"objectiveHistory: (scaled loss + regularization) at each iteration \\n %s\" % str(trainingSummary.objectiveHistory))\n",
        "        print(\"\")\n",
        "        \n",
        "        # Print the Errors\n",
        "        print(\"Training RMSE: %f\" % trainingSummary.rootMeanSquaredError)\n",
        "        print(\"Training r2: %f\" % trainingSummary.r2)\n",
        "        print(\"\")\n",
        "        \n",
        "\n",
        "        # Now load the test results\n",
        "        test_results = fitModel.evaluate(test)\n",
        "\n",
        "        # And print them\n",
        "        print(\"Test RMSE: {}\".format(test_results.rootMeanSquaredError))\n",
        "        print(\"Test r2: {}\".format(test_results.r2))\n",
        "        print(\"\")\n",
        "        \n",
        "        #Now train with cross val\n",
        "        paramGrid = (ParamGridBuilder() \\\n",
        "#              .addGrid(regressor.maxIter, [10, 15]) \\\n",
        "             .addGrid(regressor.regParam, [0.1, 0.01]) \\\n",
        "             .build())\n",
        "        \n",
        "        #Evaluator\n",
        "        revaluator = RegressionEvaluator(metricName=\"rmse\")\n",
        "        \n",
        "        #Cross Validator requires all of the following parameters:\n",
        "        crossval = CrossValidator(estimator=regressor,\n",
        "                                  estimatorParamMaps=paramGrid,\n",
        "                                  evaluator=revaluator,\n",
        "                                  numFolds=2) # 3 is best practice\n",
        "        \n",
        "        print('\\033[1m' + \"Linear Regression Model Summary WITH cross validation:\"+ '\\033[0m')\n",
        "        print(\" \")\n",
        "        # Run cross validations\n",
        "        fitModel = crossval.fit(train)\n",
        "        \n",
        "        #save model\n",
        "        global LR_BestModel \n",
        "        LR_BestModel = fitModel.bestModel\n",
        "        \n",
        "        print(\"Coefficients: \")\n",
        "        coeff_array = LR_BestModel.coefficients.toArray()\n",
        "        # Convert from numpy array to list\n",
        "        coeff_list = []\n",
        "        for x in coeff_array:\n",
        "            coeff_list.append(float(x))\n",
        "        result = spark.createDataFrame(zip(input_columns,coeff_list), schema=['feature','coeff'])\n",
        "        print(result.orderBy(result[\"coeff\"].desc()).show(truncate=False))\n",
        "        \n",
        "        # Get Model Summary Statistics\n",
        "        ModelSummary = fitModel.bestModel.summary\n",
        "        \n",
        "        print(\"Coefficient Standard Errors: \")\n",
        "        coeff_ste = ModelSummary.coefficientStandardErrors\n",
        "        result = spark.createDataFrame(zip(input_columns,coeff_ste), schema=['feature','coeff std error'])\n",
        "        print(result.orderBy(result[\"coeff std error\"].desc()).show(truncate=False))\n",
        "        print(\" \")\n",
        "        print(\"P Values: \") \n",
        "        # Then zip with input_columns list and create a df\n",
        "        pvalues = ModelSummary.pValues\n",
        "        result = spark.createDataFrame(zip(input_columns,pvalues), schema=['feature','P-Value'])\n",
        "        print(result.orderBy(result[\"P-Value\"].desc()).show(truncate=False))\n",
        "        print(\" \")\n",
        "        \n",
        "        # Use test set here so we can measure the accuracy of our model on new data\n",
        "        ModelPredictions = fitModel.transform(test)\n",
        "        \n",
        "        # cvModel uses the best model found from the Cross Validation\n",
        "        # Evaluate best model\n",
        "        test_results = revaluator.evaluate(ModelPredictions)\n",
        "        print('RMSE:', test_results)\n",
        "    \n",
        "        # Set the column names to match the external results dataframe that we will join with later:\n",
        "        columns = ['Regressor', 'Result']\n",
        "        \n",
        "        # Format results and return\n",
        "        rmse_str = [str(test_results)] #make this a string and convert to a list\n",
        "        Mtype = [Mtype] #make this a string\n",
        "        result = spark.createDataFrame(zip(Mtype,rmse_str), schema=columns)\n",
        "        result = result.withColumn('Result',result.Result.substr(0, 5))\n",
        "        return result\n",
        "\n",
        "    else:\n",
        "\n",
        "        # Add parameters of your choice here:\n",
        "        if Mtype in(\"RandomForestRegressor\"):\n",
        "            paramGrid = (ParamGridBuilder() \\\n",
        "                           .addGrid(regressor.maxDepth, [2, 5, 10,20,30])\\\n",
        "                           .addGrid(regressor.maxBins, [5, 10, 20,30,40])\n",
        "                           .addGrid(regressor.numTrees, [5,10, 20])\n",
        "                         .build())\n",
        "\n",
        "        # Add parameters of your choice here:\n",
        "        if Mtype in(\"GBTRegressor\"):\n",
        "            paramGrid = (ParamGridBuilder() \\\n",
        "                         .addGrid(regressor.maxDepth, [2, 5, 10, 20, 30]) \\\n",
        "                         .addGrid(regressor.maxBins, [10, 20]) \\\n",
        "                         .addGrid(regressor.maxIter, [10, 15])\n",
        "                         .build())\n",
        "\n",
        "        # Add parameters of your choice here:\n",
        "        if Mtype in(\"DecisionTreeRegressor\"):\n",
        "            paramGrid = (ParamGridBuilder() \\\n",
        "#                          .addGrid(regressor.maxDepth, [2, 5, 10, 20, 30]) \\\n",
        "                         .addGrid(regressor.maxBins, [10, 20, 40]) \\\n",
        "                         .build())\n",
        "\n",
        "        #Cross Validator requires all of the following parameters:\n",
        "        crossval = CrossValidator(estimator=regressor,\n",
        "                                  estimatorParamMaps=paramGrid,\n",
        "                                  evaluator=RegressionEvaluator(metricName=\"rmse\"),\n",
        "                                  numFolds=2) # 3 is best practice\n",
        "        # Fit Model: Run cross-validation, and choose the best set of parameters.\n",
        "        fitModel = crossval.fit(train)\n",
        "        \n",
        "        # Get Best Model\n",
        "        BestModel = fitModel.bestModel\n",
        "\n",
        "        # FEATURE IMPORTANCES\n",
        "        # Estimate of the importance of each feature.\n",
        "        # Each feature’s importance is the average of its importance across all trees \n",
        "        # in the ensemble The importance vector is normalized to sum to 1. \n",
        "        print(\" \")\n",
        "        print('\\033[1m' + Mtype,\" Feature Importances\"+ '\\033[0m')\n",
        "        print(\"(Scores add up to 1)\")\n",
        "        print(\"Lowest score is the least important\")\n",
        "        print(\" \")\n",
        "        featureImportances = BestModel.featureImportances.toArray()\n",
        "        # Convert from numpy array to list\n",
        "        imp_scores = []\n",
        "        for x in featureImportances:\n",
        "            imp_scores.append(float(x))\n",
        "        # Then zip with input_columns list and create a df\n",
        "        result = spark.createDataFrame(zip(input_columns,imp_scores), schema=['feature','score'])\n",
        "        print(result.orderBy(result[\"score\"].desc()).show(truncate=False))\n",
        "        \n",
        "        #Create Global Variables for feature importances and models\n",
        "        if Mtype in(\"DecisionTreeRegressor\"):\n",
        "            global DT_featureImportances\n",
        "            DT_featureImportances = BestModel.featureImportances.toArray()\n",
        "            global DT_BestModel \n",
        "            DT_BestModel = fitModel.bestModel\n",
        "        if Mtype in(\"GBTRegressor\"):\n",
        "            global GBT_featureImportances\n",
        "            GBT_featureImportances = BestModel.featureImportances.toArray()\n",
        "            global GBT_BestModel \n",
        "            GBT_BestModel = fitModel.bestModel\n",
        "        if Mtype in(\"RandomForestRegressor\"):\n",
        "            global RF_featureImportances\n",
        "            RF_featureImportances = BestModel.featureImportances.toArray()\n",
        "            global RF_BestModel \n",
        "            RF_BestModel = fitModel.bestModel\n",
        "                    \n",
        "        # Set the column names to match the external results dataframe that we will join with later:\n",
        "        columns = ['Regressor', 'Result']\n",
        "        \n",
        "        # Make predictions.\n",
        "        predictions = fitModel.transform(test)\n",
        "        # Select (prediction, true label) and compute test error\n",
        "        evaluator = RegressionEvaluator(metricName=\"rmse\")\n",
        "        rmse = evaluator.evaluate(predictions)\n",
        "        rmse_str = [str(rmse)] #make this a string and convert to a list\n",
        "        Mtype = [Mtype] #make this a string\n",
        "        result = spark.createDataFrame(zip(Mtype,rmse_str), schema=columns)\n",
        "        # Clean up the Result column and output\n",
        "        result = result.withColumn('Result',result.Result.substr(0, 5))\n",
        "        return result"
      ]
    },
    {
      "cell_type": "code",
      "execution_count": null,
      "metadata": {
        "id": "cP0ZygiAPowS",
        "outputId": "b1aa8458-373d-4fc0-a8e2-4eb67afd1fa9"
      },
      "outputs": [
        {
          "name": "stdout",
          "output_type": "stream",
          "text": [
            "\u001b[1mLinear Regression Model Training Summary without cross validation:\u001b[0m\n",
            " \n",
            "Intercept: -67.29581269124907\n",
            "\n",
            "Coefficients: \n",
            "+----------------+--------------------+\n",
            "|feature         |coeff               |\n",
            "+----------------+--------------------+\n",
            "|age             |9.224581768311468   |\n",
            "|superplasticizer|0.14639234564588235 |\n",
            "|cement          |0.1304540892345681  |\n",
            "|slag            |0.11239415257994513 |\n",
            "|flyash          |0.09018952824731297 |\n",
            "|fineaggregate   |0.031272990478472935|\n",
            "|coarseaggregate |0.024978290142103593|\n",
            "|water           |-0.14348257236293036|\n",
            "+----------------+--------------------+\n",
            "\n",
            "None\n",
            "numIterations: 0\n",
            "objectiveHistory: (scaled loss + regularization) at each iteration \n",
            " [0.0]\n",
            "\n",
            "Training RMSE: 7.016318\n",
            "Training r2: 0.828178\n",
            "\n",
            "Test RMSE: 7.514260362090084\n",
            "Test r2: 0.7840684616054954\n",
            "\n",
            "\u001b[1mLinear Regression Model Summary WITH cross validation:\u001b[0m\n",
            " \n",
            "Coefficients: \n",
            "+----------------+--------------------+\n",
            "|feature         |coeff               |\n",
            "+----------------+--------------------+\n",
            "|age             |9.21439132463331    |\n",
            "|superplasticizer|0.14682363578654442 |\n",
            "|cement          |0.12923540460209962 |\n",
            "|slag            |0.11095701039368776 |\n",
            "|flyash          |0.08848866809786267 |\n",
            "|fineaggregate   |0.029855783620692636|\n",
            "|coarseaggregate |0.023860350978700165|\n",
            "|water           |-0.14750105019977644|\n",
            "+----------------+--------------------+\n",
            "\n",
            "None\n",
            "Coefficient Standard Errors: \n",
            "+----------------+--------------------+\n",
            "|feature         |coeff std error     |\n",
            "+----------------+--------------------+\n",
            "|age             |0.24569191297385562 |\n",
            "|superplasticizer|0.07745450916766018 |\n",
            "|water           |0.03269605366606539 |\n",
            "|flyash          |0.010139167017174404|\n",
            "|fineaggregate   |0.00875747716611541 |\n",
            "|slag            |0.008230064854291473|\n",
            "|coarseaggregate |0.007653171655750859|\n",
            "|cement          |0.006890216918867589|\n",
            "+----------------+--------------------+\n",
            "\n",
            "None\n",
            " \n",
            "P Values: \n",
            "+----------------+---------------------+\n",
            "|feature         |P-Value              |\n",
            "+----------------+---------------------+\n",
            "|superplasticizer|0.05842253960206012  |\n",
            "|coarseaggregate |0.0018971765904920446|\n",
            "|fineaggregate   |6.888926687642627E-4 |\n",
            "|water           |7.554044744617627E-6 |\n",
            "|flyash          |0.0                  |\n",
            "|cement          |0.0                  |\n",
            "|slag            |0.0                  |\n",
            "|age             |0.0                  |\n",
            "+----------------+---------------------+\n",
            "\n",
            "None\n",
            " \n",
            "RMSE: 7.517011285917139\n",
            " \n",
            "\u001b[1mDecisionTreeRegressor  Feature Importances\u001b[0m\n",
            "(Scores add up to 1)\n",
            "Lowest score is the least important\n",
            " \n",
            "+----------------+--------------------+\n",
            "|feature         |score               |\n",
            "+----------------+--------------------+\n",
            "|cement          |0.4077814798014551  |\n",
            "|age             |0.37969365457554627 |\n",
            "|water           |0.10620488287555344 |\n",
            "|slag            |0.07001576673172497 |\n",
            "|fineaggregate   |0.010511766683537   |\n",
            "|superplasticizer|0.009460211833125733|\n",
            "|flyash          |0.008309696738334805|\n",
            "|coarseaggregate |0.008022540760722754|\n",
            "+----------------+--------------------+\n",
            "\n",
            "None\n",
            " \n",
            "\u001b[1mRandomForestRegressor  Feature Importances\u001b[0m\n",
            "(Scores add up to 1)\n",
            "Lowest score is the least important\n",
            " \n",
            "+----------------+--------------------+\n",
            "|feature         |score               |\n",
            "+----------------+--------------------+\n",
            "|age             |0.33969257841578104 |\n",
            "|cement          |0.22138856965894624 |\n",
            "|water           |0.1268830655730036  |\n",
            "|superplasticizer|0.10561681764218389 |\n",
            "|fineaggregate   |0.06404592647809083 |\n",
            "|coarseaggregate |0.06034537706557025 |\n",
            "|slag            |0.05400283910094005 |\n",
            "|flyash          |0.028024826065483944|\n",
            "+----------------+--------------------+\n",
            "\n",
            "None\n",
            " \n",
            "\u001b[1mGBTRegressor  Feature Importances\u001b[0m\n",
            "(Scores add up to 1)\n",
            "Lowest score is the least important\n",
            " \n",
            "+----------------+--------------------+\n",
            "|feature         |score               |\n",
            "+----------------+--------------------+\n",
            "|age             |0.28713783391303715 |\n",
            "|cement          |0.27700390417704224 |\n",
            "|water           |0.09626363199461059 |\n",
            "|fineaggregate   |0.08403600148919133 |\n",
            "|slag            |0.08374435905474768 |\n",
            "|superplasticizer|0.06917008018407896 |\n",
            "|coarseaggregate |0.056969858727441876|\n",
            "|flyash          |0.04567433045985023 |\n",
            "+----------------+--------------------+\n",
            "\n",
            "None\n",
            "+---------------------+------+\n",
            "|Regressor            |Result|\n",
            "+---------------------+------+\n",
            "|LinearRegression     |7.517 |\n",
            "|DecisionTreeRegressor|8.585 |\n",
            "|RandomForestRegressor|6.356 |\n",
            "|GBTRegressor         |6.809 |\n",
            "+---------------------+------+\n",
            "\n"
          ]
        }
      ],
      "source": [
        "# Run!\n",
        "train,test = final_data.randomSplit([0.7,0.3])\n",
        "regressors = [\n",
        "                LinearRegression()\n",
        "                ,DecisionTreeRegressor()\n",
        "                ,RandomForestRegressor()\n",
        "                ,GBTRegressor()\n",
        "                ] \n",
        "    \n",
        "#set up your results table\n",
        "columns = ['Regressor', 'Result']\n",
        "vals = [(\"Place Holder\",\"N/A\")]\n",
        "results = spark.createDataFrame(vals, columns)\n",
        "\n",
        "for regressor in regressors:\n",
        "    new_result = RegressTrainEval(regressor)\n",
        "    results = results.union(new_result)\n",
        "results = results.where(\"Regressor!='Place Holder'\")\n",
        "results.show(100,False)"
      ]
    },
    {
      "cell_type": "markdown",
      "metadata": {
        "id": "e0fUCQucPowT"
      },
      "source": [
        "## 2. For the following given inputs, what would be the estimated cement strength?\n",
        "\n",
        "- Cement: 540\n",
        "- Blast Furnace Slag: 0\n",
        "- Fly Ash: 0\n",
        "- Water: 162\n",
        "- Superplasticizer: 2.5\n",
        "- Coarse Aggregate: 1040\n",
        "- Fine Aggregate: 676\n",
        "- Age: 28\n",
        "\n",
        "The correct answer is 79.99. Let's how close your prediction is!"
      ]
    },
    {
      "cell_type": "code",
      "execution_count": null,
      "metadata": {
        "id": "70k0A7apPowT"
      },
      "outputs": [],
      "source": [
        "def predict_value(cement=np.nan, slag=np.nan,flyash=np.nan,water=np.nan,superplasticizer=np.nan,coarseaggregate=np.nan,\n",
        "                  fineaggregate=np.nan,age=np.nan):\n",
        "    schema = StructType([\n",
        "                     StructField(\"cement\", DoubleType(), True),\n",
        "                     StructField(\"slag\",DoubleType(), True),\n",
        "                     StructField(\"flyash\",DoubleType(), True),\n",
        "                     StructField(\"water\",DoubleType(), True),\n",
        "                     StructField(\"superplasticizer\",DoubleType(), True),\n",
        "                     StructField(\"coarseaggregate\",DoubleType(), True),\n",
        "                     StructField(\"fineaggregate\",DoubleType(), True),\n",
        "                     StructField(\"age\", IntegerType(), True)\n",
        "                     \n",
        "                        ])\n",
        "    data = [(cement,slag,flyash,water,superplasticizer,coarseaggregate,fineaggregate, age)]\n",
        "\n",
        "    input_df = spark.createDataFrame(data=data,  schema=schema)\n",
        "    #input_df.toPandas()\n",
        "    features_list =  ['cement','slag', 'flyash','water', 'superplasticizer', 'coarseaggregate','fineaggregate','age']\n",
        "    assembler = VectorAssembler(inputCols=features_list,outputCol='features',handleInvalid='keep')\n",
        "    final_data = assembler.transform(input_df).select('features')\n",
        "    predictions = RF_BestModel.transform(final_data)\n",
        "    predicted_strength = predictions.select(\"prediction\").collect()[0][0]\n",
        "    return predicted_strength\n",
        "    "
      ]
    },
    {
      "cell_type": "code",
      "execution_count": null,
      "metadata": {
        "id": "RE4BOUnFPowT",
        "outputId": "567183b8-c1b0-4fc1-f70a-7105f81da7be"
      },
      "outputs": [
        {
          "name": "stdout",
          "output_type": "stream",
          "text": [
            "Predicted cement strength: 66.45738888888887\n"
          ]
        }
      ],
      "source": [
        "print(\"Predicted cement strength:\", predict_value(540.0, 0.0, 0.0, 162.0, 2.5, 1040.0, 676.0, 28))\n",
        "\n"
      ]
    },
    {
      "cell_type": "markdown",
      "metadata": {
        "id": "WGWCQQjNPowU"
      },
      "source": [
        "## 3. Now see if you can ask users to input their own value for Age and return a predicted value for the cement stength. \n",
        "\n",
        "We did not cover this is in the lecture so you'll have to put your thinking cap on. Accepting user input in PySpark works just like it does in traditional Python.\n",
        "<br>\n",
        "\n",
        "val = input(\"Enter your value: \") "
      ]
    },
    {
      "cell_type": "code",
      "execution_count": null,
      "metadata": {
        "id": "aQ1owb1UPowU"
      },
      "outputs": [],
      "source": [
        "#get the optimal values\n",
        "max_row = df.orderBy(desc(\"csMPa\")).first()\n",
        "\n",
        "optimal_cement=max_row.cement\n",
        "optimal_slag=max_row.slag\n",
        "optimal_flyash=max_row.flyash\n",
        "optimal_water=max_row.water\n",
        "optimal_superplasticizer=max_row.superplasticizer\n",
        "optimal_coarseaggregate=max_row.coarseaggregate\n",
        "optimal_fineaggregate=max_row.fineaggregate\n",
        "optimal_age=max_row.age"
      ]
    },
    {
      "cell_type": "code",
      "execution_count": null,
      "metadata": {
        "id": "Vp6xR_H9PowU",
        "outputId": "69020d40-f01f-4fcd-defb-51d62a188d00"
      },
      "outputs": [
        {
          "name": "stdin",
          "output_type": "stream",
          "text": [
            "please enter the age 91\n"
          ]
        },
        {
          "name": "stdout",
          "output_type": "stream",
          "text": [
            "Predicted cement strength: 78.89133333333334\n"
          ]
        }
      ],
      "source": [
        "age =input(\"please enter the age\")\n",
        "age=int(age)\n",
        "print(\"Predicted cement strength:\", predict_value(optimal_cement,optimal_slag,optimal_flyash,optimal_water,\n",
        "                                                  optimal_superplasticizer\n",
        "                                                  ,optimal_coarseaggregate,optimal_fineaggregate,age))\n"
      ]
    },
    {
      "cell_type": "markdown",
      "metadata": {
        "id": "8CHEBQY_PowU"
      },
      "source": [
        "## 4. Make recommendations of optimal values for cement ingredients (our features)\n",
        "\n",
        "See if you can find the optimal amount of cement to recommend holding the rest of the values from the previous question constant, assuming that the higher the cement strength value the better. "
      ]
    },
    {
      "cell_type": "code",
      "execution_count": null,
      "metadata": {
        "id": "Ug0EMLQdPowU"
      },
      "outputs": [],
      "source": [
        "cements= range(400, 900, 50)\n",
        "predicted_csMPa = []\n",
        "\n",
        "for i in cements:\n",
        "     predicted=predict_value(float(i),optimal_slag,optimal_flyash,optimal_water,\n",
        "                                                  optimal_superplasticizer\n",
        "                                                  ,optimal_coarseaggregate,optimal_fineaggregate,optimal_age)\n",
        "    \n",
        "     predicted_csMPa.append(predicted)\n",
        "\n",
        "optimal_best_cement = cements[predicted_csMPa.index(max(predicted_csMPa))]\n",
        "\n",
        "print(f\"Optimal amount of cement: {optimal_cement} with the max predicted csMPA : {max(predicted_csMPa)}\", )"
      ]
    },
    {
      "cell_type": "code",
      "execution_count": null,
      "metadata": {
        "id": "b12RxBSxPowV"
      },
      "outputs": [],
      "source": []
    }
  ],
  "metadata": {
    "kernelspec": {
      "display_name": "Python 3 (ipykernel)",
      "language": "python",
      "name": "python3"
    },
    "language_info": {
      "codemirror_mode": {
        "name": "ipython",
        "version": 3
      },
      "file_extension": ".py",
      "mimetype": "text/x-python",
      "name": "python",
      "nbconvert_exporter": "python",
      "pygments_lexer": "ipython3",
      "version": "3.10.8"
    },
    "colab": {
      "provenance": []
    }
  },
  "nbformat": 4,
  "nbformat_minor": 0
}